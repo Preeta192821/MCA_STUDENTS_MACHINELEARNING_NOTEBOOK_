{
 "cells": [
  {
   "cell_type": "markdown",
   "metadata": {},
   "source": [
    "# LEMMITIZATION:"
   ]
  },
  {
   "cell_type": "code",
   "execution_count": 1,
   "metadata": {},
   "outputs": [],
   "source": [
    "import nltk\n",
    "from nltk.corpus import stopwords\n",
    "from nltk import word_tokenize, sent_tokenize\n",
    "from nltk.stem import WordNetLemmatizer, PorterStemmer\n",
    "\n",
    "text = '''When we look at the positive aspect of social media. we find numerous advantages. The most important being a great device for education. \n",
    "          All the information one requires is just a click away. Students can educate themselves on various topics using social media.\n",
    "          Moreover, live lectures are now possible because of social media. You can attend a lecture happening in America while sitting in India.\n",
    "          Furthermore, as more and more people are distancing themselves from newspapers, they are depending on social media for news. You are always updated on the latest happenings of the world through it. A person becomes more socially aware of the issues of the world.\n",
    "        '''\n",
    "ps = PorterStemmer()\n",
    "lem = WordNetLemmatizer()\n",
    "\n",
    "sentence = nltk.sent_tokenize(text)"
   ]
  },
  {
   "cell_type": "code",
   "execution_count": 2,
   "metadata": {},
   "outputs": [],
   "source": [
    "#filtered = []\n",
    "#for i in range(len(sentence)):\n",
    "    #words = nltk.word_tokenize(sentence[i])\n",
    "    #for word in words:\n",
    "        #if word not in set(stopwords.words('english')):\n",
    "            #wordnet = lem.lemmatize(word)\n",
    "            #filtered.append(wordnet)\n",
    "            \n",
    "           \n",
    "            "
   ]
  },
  {
   "cell_type": "code",
   "execution_count": 3,
   "metadata": {},
   "outputs": [],
   "source": [
    "\n",
    "lem = WordNetLemmatizer()\n",
    "for i in range(len(sentence)):\n",
    "    words = nltk.word_tokenize(sentence[i])\n",
    "    words = [lem.lemmatize(word) for word in words if word not in set(stopwords.words('english'))]\n",
    "    sentence[i]=' '.join(words)\n",
    "    "
   ]
  },
  {
   "cell_type": "code",
   "execution_count": 4,
   "metadata": {},
   "outputs": [],
   "source": [
    "sen = nltk.sent_tokenize(text)\n",
    "ps = PorterStemmer()\n",
    "for i in range(len(sen)):\n",
    "    words = nltk.word_tokenize(sen[i])\n",
    "    words = [ps.stem(word) for word in words if word not in set(stopwords.words('english'))]\n",
    "    sen[i]= ' '.join(words)\n",
    "    "
   ]
  },
  {
   "cell_type": "code",
   "execution_count": 23,
   "metadata": {},
   "outputs": [
    {
     "data": {
      "text/html": [
       "<div>\n",
       "<style scoped>\n",
       "    .dataframe tbody tr th:only-of-type {\n",
       "        vertical-align: middle;\n",
       "    }\n",
       "\n",
       "    .dataframe tbody tr th {\n",
       "        vertical-align: top;\n",
       "    }\n",
       "\n",
       "    .dataframe thead th {\n",
       "        text-align: right;\n",
       "    }\n",
       "</style>\n",
       "<table border=\"1\" class=\"dataframe\">\n",
       "  <thead>\n",
       "    <tr style=\"text-align: right;\">\n",
       "      <th></th>\n",
       "      <th>0</th>\n",
       "    </tr>\n",
       "  </thead>\n",
       "  <tbody>\n",
       "    <tr>\n",
       "      <td>when look posit aspect social media .</td>\n",
       "      <td>When look positive aspect social medium .</td>\n",
       "    </tr>\n",
       "    <tr>\n",
       "      <td>find numer advantag .</td>\n",
       "      <td>find numerous advantage .</td>\n",
       "    </tr>\n",
       "    <tr>\n",
       "      <td>the import great devic educ .</td>\n",
       "      <td>The important great device education .</td>\n",
       "    </tr>\n",
       "    <tr>\n",
       "      <td>all inform one requir click away .</td>\n",
       "      <td>All information one requires click away .</td>\n",
       "    </tr>\n",
       "    <tr>\n",
       "      <td>student educ variou topic use social media .</td>\n",
       "      <td>Students educate various topic using social me...</td>\n",
       "    </tr>\n",
       "    <tr>\n",
       "      <td>moreov , live lectur possibl social media .</td>\n",
       "      <td>Moreover , live lecture possible social medium .</td>\n",
       "    </tr>\n",
       "    <tr>\n",
       "      <td>you attend lectur happen america sit india .</td>\n",
       "      <td>You attend lecture happening America sitting I...</td>\n",
       "    </tr>\n",
       "    <tr>\n",
       "      <td>furthermor , peopl distanc newspap , depend social media news .</td>\n",
       "      <td>Furthermore , people distancing newspaper , de...</td>\n",
       "    </tr>\n",
       "    <tr>\n",
       "      <td>you alway updat latest happen world .</td>\n",
       "      <td>You always updated latest happening world .</td>\n",
       "    </tr>\n",
       "    <tr>\n",
       "      <td>A person becom social awar issu world .</td>\n",
       "      <td>A person becomes socially aware issue world .</td>\n",
       "    </tr>\n",
       "  </tbody>\n",
       "</table>\n",
       "</div>"
      ],
      "text/plain": [
       "                                                                                                    0\n",
       "when look posit aspect social media .                       When look positive aspect social medium .\n",
       "find numer advantag .                                                       find numerous advantage .\n",
       "the import great devic educ .                                  The important great device education .\n",
       "all inform one requir click away .                          All information one requires click away .\n",
       "student educ variou topic use social media .        Students educate various topic using social me...\n",
       "moreov , live lectur possibl social media .          Moreover , live lecture possible social medium .\n",
       "you attend lectur happen america sit india .        You attend lecture happening America sitting I...\n",
       "furthermor , peopl distanc newspap , depend soc...  Furthermore , people distancing newspaper , de...\n",
       "you alway updat latest happen world .                     You always updated latest happening world .\n",
       "A person becom social awar issu world .                 A person becomes socially aware issue world ."
      ]
     },
     "execution_count": 23,
     "metadata": {},
     "output_type": "execute_result"
    }
   ],
   "source": [
    "import pandas as pd\n",
    "df = pd.DataFrame(sentence,sen)\n",
    "df"
   ]
  },
  {
   "cell_type": "code",
   "execution_count": null,
   "metadata": {},
   "outputs": [],
   "source": []
  },
  {
   "cell_type": "code",
   "execution_count": null,
   "metadata": {},
   "outputs": [],
   "source": []
  }
 ],
 "metadata": {
  "kernelspec": {
   "display_name": "Python 3",
   "language": "python",
   "name": "python3"
  },
  "language_info": {
   "codemirror_mode": {
    "name": "ipython",
    "version": 3
   },
   "file_extension": ".py",
   "mimetype": "text/x-python",
   "name": "python",
   "nbconvert_exporter": "python",
   "pygments_lexer": "ipython3",
   "version": "3.7.4"
  }
 },
 "nbformat": 4,
 "nbformat_minor": 2
}
