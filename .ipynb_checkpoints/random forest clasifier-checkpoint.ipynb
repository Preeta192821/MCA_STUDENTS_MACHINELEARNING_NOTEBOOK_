{
 "cells": [
  {
   "cell_type": "code",
   "execution_count": 1,
   "metadata": {},
   "outputs": [],
   "source": [
    "import pandas as pd\n",
    "import matplotlib.pyplot as plt\n",
    "import seaborn as sn\n",
    "from sklearn.datasets import load_digits"
   ]
  },
  {
   "cell_type": "code",
   "execution_count": 2,
   "metadata": {},
   "outputs": [
    {
     "data": {
      "text/plain": [
       "['DESCR', 'data', 'images', 'target', 'target_names']"
      ]
     },
     "execution_count": 2,
     "metadata": {},
     "output_type": "execute_result"
    }
   ],
   "source": [
    "digit = load_digits()\n",
    "dir(digit)"
   ]
  },
  {
   "cell_type": "code",
   "execution_count": 3,
   "metadata": {},
   "outputs": [
    {
     "name": "stdout",
     "output_type": "stream",
     "text": [
      ".. _digits_dataset:\n",
      "\n",
      "Optical recognition of handwritten digits dataset\n",
      "--------------------------------------------------\n",
      "\n",
      "**Data Set Characteristics:**\n",
      "\n",
      "    :Number of Instances: 5620\n",
      "    :Number of Attributes: 64\n",
      "    :Attribute Information: 8x8 image of integer pixels in the range 0..16.\n",
      "    :Missing Attribute Values: None\n",
      "    :Creator: E. Alpaydin (alpaydin '@' boun.edu.tr)\n",
      "    :Date: July; 1998\n",
      "\n",
      "This is a copy of the test set of the UCI ML hand-written digits datasets\n",
      "https://archive.ics.uci.edu/ml/datasets/Optical+Recognition+of+Handwritten+Digits\n",
      "\n",
      "The data set contains images of hand-written digits: 10 classes where\n",
      "each class refers to a digit.\n",
      "\n",
      "Preprocessing programs made available by NIST were used to extract\n",
      "normalized bitmaps of handwritten digits from a preprinted form. From a\n",
      "total of 43 people, 30 contributed to the training set and different 13\n",
      "to the test set. 32x32 bitmaps are divided into nonoverlapping blocks of\n",
      "4x4 and the number of on pixels are counted in each block. This generates\n",
      "an input matrix of 8x8 where each element is an integer in the range\n",
      "0..16. This reduces dimensionality and gives invariance to small\n",
      "distortions.\n",
      "\n",
      "For info on NIST preprocessing routines, see M. D. Garris, J. L. Blue, G.\n",
      "T. Candela, D. L. Dimmick, J. Geist, P. J. Grother, S. A. Janet, and C.\n",
      "L. Wilson, NIST Form-Based Handprint Recognition System, NISTIR 5469,\n",
      "1994.\n",
      "\n",
      ".. topic:: References\n",
      "\n",
      "  - C. Kaynak (1995) Methods of Combining Multiple Classifiers and Their\n",
      "    Applications to Handwritten Digit Recognition, MSc Thesis, Institute of\n",
      "    Graduate Studies in Science and Engineering, Bogazici University.\n",
      "  - E. Alpaydin, C. Kaynak (1998) Cascading Classifiers, Kybernetika.\n",
      "  - Ken Tang and Ponnuthurai N. Suganthan and Xi Yao and A. Kai Qin.\n",
      "    Linear dimensionalityreduction using relevance weighted LDA. School of\n",
      "    Electrical and Electronic Engineering Nanyang Technological University.\n",
      "    2005.\n",
      "  - Claudio Gentile. A New Approximate Maximal Margin Classification\n",
      "    Algorithm. NIPS. 2000.\n"
     ]
    }
   ],
   "source": [
    "print(digit.DESCR)"
   ]
  },
  {
   "cell_type": "code",
   "execution_count": 4,
   "metadata": {},
   "outputs": [
    {
     "name": "stdout",
     "output_type": "stream",
     "text": [
      "[[ 0.  0.  5. ...  0.  0.  0.]\n",
      " [ 0.  0.  0. ... 10.  0.  0.]\n",
      " [ 0.  0.  0. ... 16.  9.  0.]\n",
      " ...\n",
      " [ 0.  0.  1. ...  6.  0.  0.]\n",
      " [ 0.  0.  2. ... 12.  0.  0.]\n",
      " [ 0.  0. 10. ... 12.  1.  0.]]\n"
     ]
    }
   ],
   "source": [
    "print(digit.data)"
   ]
  },
  {
   "cell_type": "code",
   "execution_count": 5,
   "metadata": {},
   "outputs": [
    {
     "data": {
      "text/plain": [
       "<matplotlib.image.AxesImage at 0xfb399c2e88>"
      ]
     },
     "execution_count": 5,
     "metadata": {},
     "output_type": "execute_result"
    },
    {
     "data": {
      "image/png": "[encoded data removed]",
      "text/plain": [
       "<Figure size 288x288 with 1 Axes>"
      ]
     },
     "metadata": {
      "needs_background": "light"
     },
     "output_type": "display_data"
    }
   ],
   "source": [
    "plt.matshow(digit.images[1500])"
   ]
  },
  {
   "cell_type": "code",
   "execution_count": 6,
   "metadata": {},
   "outputs": [
    {
     "name": "stdout",
     "output_type": "stream",
     "text": [
      "[ 0.  0.  0.  3. 12. 12.  2.  0.  0.  0.  7. 15. 16. 16.  0.  0.  0.  4.\n",
      " 15.  9. 14. 16.  3.  0.  0.  2.  0.  0. 14. 16.  0.  0.  0.  0.  0.  0.\n",
      " 14. 16.  0.  0.  0.  0.  0.  0. 15. 13.  0.  0.  0.  0.  0.  0. 16. 14.\n",
      "  1.  0.  0.  0.  0.  3. 16. 13.  2.  0.]\n"
     ]
    }
   ],
   "source": [
    "print(digit.data[1500]) # this is a pixel size of above image"
   ]
  },
  {
   "cell_type": "code",
   "execution_count": 7,
   "metadata": {},
   "outputs": [
    {
     "name": "stdout",
     "output_type": "stream",
     "text": [
      "[0 1 2 ... 8 9 8]\n"
     ]
    }
   ],
   "source": [
    "print(digit.target)"
   ]
  },
  {
   "cell_type": "code",
   "execution_count": 8,
   "metadata": {},
   "outputs": [
    {
     "name": "stdout",
     "output_type": "stream",
     "text": [
      "[0 1 2 3 4 5 6 7 8 9]\n"
     ]
    }
   ],
   "source": [
    "print(digit.target_names)"
   ]
  },
  {
   "cell_type": "code",
   "execution_count": 9,
   "metadata": {},
   "outputs": [],
   "source": [
    "x= digit.data\n",
    "y= digit.target"
   ]
  },
  {
   "cell_type": "code",
   "execution_count": 25,
   "metadata": {},
   "outputs": [],
   "source": [
    "from sklearn.model_selection import train_test_split\n",
    "\n",
    "x_train, x_test , y_train,y_test =train_test_split(x,y,test_size=0.2)"
   ]
  },
  {
   "cell_type": "code",
   "execution_count": 11,
   "metadata": {},
   "outputs": [
    {
     "data": {
      "text/plain": [
       "(1437, 64)"
      ]
     },
     "execution_count": 11,
     "metadata": {},
     "output_type": "execute_result"
    }
   ],
   "source": [
    "x_train.shape"
   ]
  },
  {
   "cell_type": "code",
   "execution_count": 12,
   "metadata": {},
   "outputs": [
    {
     "data": {
      "text/plain": [
       "(360, 64)"
      ]
     },
     "execution_count": 12,
     "metadata": {},
     "output_type": "execute_result"
    }
   ],
   "source": [
    "x_test.shape"
   ]
  },
  {
   "cell_type": "code",
   "execution_count": 13,
   "metadata": {},
   "outputs": [
    {
     "data": {
      "text/plain": [
       "(1437,)"
      ]
     },
     "execution_count": 13,
     "metadata": {},
     "output_type": "execute_result"
    }
   ],
   "source": [
    "y_train.shape"
   ]
  },
  {
   "cell_type": "code",
   "execution_count": 14,
   "metadata": {},
   "outputs": [
    {
     "data": {
      "text/plain": [
       "RandomForestClassifier(bootstrap=True, class_weight=None, criterion='gini',\n",
       "                       max_depth=None, max_features='auto', max_leaf_nodes=None,\n",
       "                       min_impurity_decrease=0.0, min_impurity_split=None,\n",
       "                       min_samples_leaf=1, min_samples_split=2,\n",
       "                       min_weight_fraction_leaf=0.0, n_estimators=60,\n",
       "                       n_jobs=None, oob_score=False, random_state=None,\n",
       "                       verbose=0, warm_start=False)"
      ]
     },
     "execution_count": 14,
     "metadata": {},
     "output_type": "execute_result"
    }
   ],
   "source": [
    "from sklearn.ensemble import RandomForestClassifier\n",
    "clf = RandomForestClassifier(n_estimators=60)\n",
    "clf.fit(x_train,y_train)"
   ]
  },
  {
   "cell_type": "code",
   "execution_count": 15,
   "metadata": {},
   "outputs": [
    {
     "data": {
      "text/plain": [
       "array([2, 4, 7, 7, 0, 9, 3, 0, 4, 3, 1, 8, 0, 1, 0, 9, 6, 5, 5, 9, 8, 8,\n",
       "       0, 7, 5, 3, 8, 4, 6, 9, 9, 5, 3, 7, 0, 9, 8, 3, 4, 2, 7, 1, 5, 3,\n",
       "       0, 6, 0, 4, 0, 4, 7, 7, 1, 1, 2, 2, 9, 1, 7, 4, 2, 3, 9, 1, 1, 3,\n",
       "       0, 3, 8, 8, 7, 5, 1, 5, 8, 6, 2, 2, 5, 8, 3, 7, 0, 8, 4, 6, 5, 4,\n",
       "       2, 4, 6, 1, 0, 1, 9, 9, 3, 6, 6, 2, 8, 8, 4, 3, 5, 2, 8, 2, 0, 1,\n",
       "       3, 4, 3, 1, 0, 2, 2, 7, 6, 3, 8, 5, 5, 2, 6, 8, 0, 9, 1, 1, 3, 7,\n",
       "       7, 4, 1, 3, 6, 7, 4, 2, 5, 0, 4, 3, 1, 5, 8, 6, 7, 8, 2, 9, 3, 1,\n",
       "       8, 4, 8, 6, 8, 3, 3, 6, 9, 8, 0, 2, 4, 8, 0, 7, 7, 1, 5, 6, 3, 6,\n",
       "       6, 6, 6, 9, 2, 1, 2, 5, 7, 4, 4, 6, 5, 4, 9, 4, 7, 3, 8, 9, 2, 1,\n",
       "       0, 4, 8, 5, 6, 6, 0, 6, 1, 3, 4, 1, 9, 6, 0, 9, 4, 9, 9, 8, 2, 4,\n",
       "       3, 6, 2, 4, 8, 2, 0, 2, 0, 5, 4, 6, 2, 9, 7, 9, 0, 3, 6, 1, 2, 1,\n",
       "       9, 0, 6, 6, 7, 5, 5, 8, 0, 7, 4, 9, 9, 7, 3, 5, 1, 8, 6, 1, 4, 5,\n",
       "       9, 9, 5, 0, 6, 9, 7, 5, 9, 2, 8, 2, 7, 9, 9, 9, 3, 3, 5, 4, 9, 6,\n",
       "       2, 2, 4, 9, 5, 2, 3, 4, 1, 7, 7, 0, 8, 7, 4, 9, 1, 1, 1, 5, 3, 9,\n",
       "       6, 5, 7, 9, 4, 5, 1, 9, 6, 5, 8, 9, 9, 0, 7, 5, 2, 9, 8, 6, 8, 2,\n",
       "       5, 4, 6, 3, 3, 8, 1, 3, 8, 0, 1, 4, 4, 0, 7, 4, 3, 0, 5, 3, 7, 7,\n",
       "       1, 8, 2, 9, 5, 5, 0, 7])"
      ]
     },
     "execution_count": 15,
     "metadata": {},
     "output_type": "execute_result"
    }
   ],
   "source": [
    "yp=clf.predict(x_test)\n",
    "yp"
   ]
  },
  {
   "cell_type": "code",
   "execution_count": 16,
   "metadata": {},
   "outputs": [
    {
     "data": {
      "text/plain": [
       "array([2, 4, 7, 7, 0, 9, 3, 0, 4, 3, 1, 8, 0, 2, 0, 9, 6, 5, 5, 9, 8, 8,\n",
       "       0, 7, 5, 3, 8, 4, 6, 9, 9, 3, 3, 7, 0, 9, 8, 3, 6, 2, 7, 1, 5, 3,\n",
       "       0, 5, 0, 4, 0, 4, 7, 7, 1, 1, 2, 2, 9, 1, 7, 4, 2, 3, 9, 1, 1, 3,\n",
       "       0, 3, 3, 8, 7, 5, 1, 5, 8, 6, 2, 2, 5, 8, 3, 7, 0, 8, 4, 6, 5, 4,\n",
       "       2, 4, 6, 1, 0, 1, 9, 9, 3, 6, 6, 2, 8, 8, 4, 3, 5, 2, 8, 2, 0, 1,\n",
       "       3, 4, 3, 1, 0, 2, 2, 7, 6, 3, 8, 5, 5, 2, 6, 8, 0, 9, 1, 1, 3, 7,\n",
       "       7, 4, 1, 3, 6, 7, 4, 2, 5, 0, 4, 3, 1, 5, 8, 6, 7, 8, 2, 9, 3, 1,\n",
       "       8, 4, 8, 6, 8, 3, 3, 6, 9, 8, 0, 2, 4, 8, 0, 7, 7, 1, 5, 6, 3, 6,\n",
       "       6, 6, 6, 9, 2, 1, 2, 5, 7, 4, 8, 6, 5, 4, 9, 4, 7, 3, 8, 9, 2, 1,\n",
       "       0, 4, 8, 5, 6, 6, 0, 6, 1, 3, 4, 1, 9, 6, 0, 9, 4, 9, 9, 8, 2, 4,\n",
       "       3, 6, 2, 0, 8, 2, 0, 2, 0, 5, 4, 6, 2, 9, 7, 9, 0, 3, 6, 1, 2, 1,\n",
       "       9, 0, 6, 6, 7, 5, 5, 9, 0, 7, 4, 9, 9, 7, 3, 5, 1, 8, 6, 1, 4, 5,\n",
       "       9, 9, 5, 0, 6, 9, 7, 5, 9, 2, 8, 2, 7, 9, 9, 9, 3, 3, 5, 4, 9, 6,\n",
       "       2, 2, 4, 9, 5, 2, 3, 4, 1, 7, 7, 0, 8, 7, 4, 9, 1, 1, 1, 5, 3, 9,\n",
       "       6, 5, 7, 9, 4, 5, 1, 9, 6, 5, 8, 9, 9, 0, 7, 5, 2, 9, 8, 6, 8, 2,\n",
       "       8, 4, 6, 3, 3, 8, 1, 3, 8, 0, 8, 4, 9, 0, 7, 4, 3, 0, 5, 3, 7, 7,\n",
       "       1, 8, 2, 9, 5, 5, 0, 7])"
      ]
     },
     "execution_count": 16,
     "metadata": {},
     "output_type": "execute_result"
    }
   ],
   "source": [
    "y_test"
   ]
  },
  {
   "cell_type": "code",
   "execution_count": 17,
   "metadata": {},
   "outputs": [
    {
     "data": {
      "text/plain": [
       "1.0"
      ]
     },
     "execution_count": 17,
     "metadata": {},
     "output_type": "execute_result"
    }
   ],
   "source": [
    "clf.score(x_train,y_train)"
   ]
  },
  {
   "cell_type": "code",
   "execution_count": 18,
   "metadata": {},
   "outputs": [
    {
     "data": {
      "text/plain": [
       "0.9694444444444444"
      ]
     },
     "execution_count": 18,
     "metadata": {},
     "output_type": "execute_result"
    }
   ],
   "source": [
    "clf.score(x_test,y_test)"
   ]
  },
  {
   "cell_type": "code",
   "execution_count": 19,
   "metadata": {},
   "outputs": [
    {
     "data": {
      "text/plain": [
       "array([[33,  0,  0,  0,  1,  0,  0,  0,  0,  0],\n",
       "       [ 0, 33,  0,  0,  0,  0,  0,  0,  0,  0],\n",
       "       [ 0,  1, 34,  0,  0,  0,  0,  0,  0,  0],\n",
       "       [ 0,  0,  0, 36,  0,  1,  0,  0,  1,  0],\n",
       "       [ 0,  0,  0,  0, 34,  0,  0,  0,  0,  0],\n",
       "       [ 0,  0,  0,  0,  0, 34,  1,  0,  0,  0],\n",
       "       [ 0,  0,  0,  0,  1,  0, 35,  0,  0,  0],\n",
       "       [ 0,  0,  0,  0,  0,  0,  0, 34,  0,  0],\n",
       "       [ 0,  1,  0,  0,  1,  1,  0,  0, 34,  0],\n",
       "       [ 0,  0,  0,  0,  1,  0,  0,  0,  1, 42]], dtype=int64)"
      ]
     },
     "execution_count": 19,
     "metadata": {},
     "output_type": "execute_result"
    }
   ],
   "source": [
    "from sklearn.metrics import confusion_matrix\n",
    "\n",
    "cm= confusion_matrix(y_test,yp)\n",
    "cm"
   ]
  },
  {
   "cell_type": "code",
   "execution_count": 20,
   "metadata": {},
   "outputs": [
    {
     "data": {
      "image/png": "[encoded data removed]",
      "text/plain": [
       "<Figure size 720x504 with 2 Axes>"
      ]
     },
     "metadata": {
      "needs_background": "light"
     },
     "output_type": "display_data"
    }
   ],
   "source": [
    "plt.figure(figsize=(10,7))\n",
    "sn.heatmap(cm,annot=True,cmap=\"rainbow\")\n",
    "plt.xlabel(\"predict\")\n",
    "plt.ylabel(\"true\")\n",
    "plt.show()"
   ]
  },
  {
   "cell_type": "code",
   "execution_count": null,
   "metadata": {},
   "outputs": [],
   "source": []
  },
  {
   "cell_type": "code",
   "execution_count": null,
   "metadata": {},
   "outputs": [],
   "source": []
  }
 ],
 "metadata": {
  "kernelspec": {
   "display_name": "Python 3",
   "language": "python",
   "name": "python3"
  },
  "language_info": {
   "codemirror_mode": {
    "name": "ipython",
    "version": 3
   },
   "file_extension": ".py",
   "mimetype": "text/x-python",
   "name": "python",
   "nbconvert_exporter": "python",
   "pygments_lexer": "ipython3",
   "version": "3.7.4"
  }
 },
 "nbformat": 4,
 "nbformat_minor": 2
}
