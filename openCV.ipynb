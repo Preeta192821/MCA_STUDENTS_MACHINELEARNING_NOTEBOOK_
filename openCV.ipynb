{
 "cells": [
  {
   "cell_type": "code",
   "execution_count": 1,
   "metadata": {},
   "outputs": [],
   "source": [
    "import numpy as np\n",
    "import cv2\n",
    "import pyautogui"
   ]
  },
  {
   "cell_type": "code",
   "execution_count": 2,
   "metadata": {},
   "outputs": [],
   "source": [
    "# for windows, mac user\n",
    "\n",
    "from PIL import ImageGrab\n",
    "resolution = (1920, 1080)\n",
    "\n",
    "codec = cv2.VideoWriter_fourcc(*'mp4v')\n",
    "out = cv2.VideoWriter(\"output.mp4\",codec, 0.5,resolution)"
   ]
  },
  {
   "cell_type": "code",
   "execution_count": 3,
   "metadata": {},
   "outputs": [],
   "source": [
    "# Create an Empty window \n",
    "cv2.namedWindow(\"Live\", cv2.WINDOW_NORMAL) \n",
    "  \n",
    "# Resize this window \n",
    "cv2.resizeWindow(\"Live\", 480, 270)"
   ]
  },
  {
   "cell_type": "code",
   "execution_count": 4,
   "metadata": {},
   "outputs": [],
   "source": [
    "while True:\n",
    "    # take screenshot using pyautogui\n",
    "    img = pyautogui.screenshot()\n",
    "    # covert img into numpy array\n",
    "    img_np = np.array(img)\n",
    "    \n",
    "    frame = cv2.cvtColor(img_np, cv2.COLOR_BGR2RGB)\n",
    "    \n",
    "    out.write(frame)\n",
    "    cv2.imshow('Live',frame)\n",
    "    \n",
    "    if cv2.waitKey(1)== ord('q'):\n",
    "        break\n",
    "        \n",
    "out.release()\n",
    "cv2.destroyAllWindows()"
   ]
  }
 ],
 "metadata": {
  "kernelspec": {
   "display_name": "Python 3",
   "language": "python",
   "name": "python3"
  },
  "language_info": {
   "codemirror_mode": {
    "name": "ipython",
    "version": 3
   },
   "file_extension": ".py",
   "mimetype": "text/x-python",
   "name": "python",
   "nbconvert_exporter": "python",
   "pygments_lexer": "ipython3",
   "version": "3.7.4"
  }
 },
 "nbformat": 4,
 "nbformat_minor": 2
}
